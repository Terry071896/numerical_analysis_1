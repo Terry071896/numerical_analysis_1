{
 "cells": [
  {
   "cell_type": "markdown",
   "metadata": {},
   "source": [
    "# Numerical Homework 1\n",
    "\n",
    "Code as follow for problems that require it\n",
    "\n",
    "#### Original work created on 25/09/2022\n",
    "\n",
    "#### Author: Terry Cox  \n",
    "\n"
   ]
  },
  {
   "cell_type": "code",
   "execution_count": 1,
   "metadata": {},
   "outputs": [],
   "source": [
    "import numpy as np\n",
    "import pandas as pd"
   ]
  },
  {
   "cell_type": "markdown",
   "metadata": {},
   "source": [
    "### Problem 3"
   ]
  },
  {
   "cell_type": "code",
   "execution_count": 2,
   "metadata": {},
   "outputs": [],
   "source": [
    "A = np.matrix([[6, 4, 5, 9, 4, 3],\n",
    "            [3, 7, 5, 8, 10, 4],\n",
    "            [8, 8, 5, 7, 9, 5],\n",
    "            [2, 1, 4, 4, 6, 3],\n",
    "            [7, 10, 6, 9, 7, 9],\n",
    "            [2, 8, 6, 6, 6, 2]])\n",
    "\n",
    "b = np.array([103, 138, 142, 80, 170, 102])\n",
    "\n",
    "g = b[:3]\n",
    "h = b[-3:]\n",
    "\n",
    "C = A[:3,:3]\n",
    "D = A[:3, -3:]\n",
    "E = A[-3:, :3]\n",
    "F = A[-3:, -3:]\n",
    "\n",
    "I = np.array([[1,0,0],[0,1,0],[0,0,1]])"
   ]
  },
  {
   "cell_type": "markdown",
   "metadata": {},
   "source": [
    "##### 3a)"
   ]
  },
  {
   "cell_type": "code",
   "execution_count": 3,
   "metadata": {},
   "outputs": [
    {
     "data": {
      "text/plain": [
       "matrix([[3586, 4733, 5238, 2558, 5781, 3866]])"
      ]
     },
     "execution_count": 3,
     "metadata": {},
     "output_type": "execute_result"
    }
   ],
   "source": [
    "# original p\n",
    "p = np.matmul(A, b)\n",
    "p"
   ]
  },
  {
   "cell_type": "code",
   "execution_count": 4,
   "metadata": {},
   "outputs": [
    {
     "data": {
      "text/plain": [
       "array([3586., 4733., 5238., 2558., 5781., 3866.])"
      ]
     },
     "execution_count": 4,
     "metadata": {},
     "output_type": "execute_result"
    }
   ],
   "source": [
    "# partitioned p --- p_hat\n",
    "p_hat = np.zeros(b.shape)\n",
    "p_hat[:3] = np.matmul(C, g) + np.matmul(D, h)\n",
    "p_hat[-3:] = np.matmul(E, g) + np.matmul(F, h)\n",
    "p_hat"
   ]
  },
  {
   "cell_type": "code",
   "execution_count": 5,
   "metadata": {},
   "outputs": [
    {
     "data": {
      "text/plain": [
       "matrix([[ True,  True,  True,  True,  True,  True]])"
      ]
     },
     "execution_count": 5,
     "metadata": {},
     "output_type": "execute_result"
    }
   ],
   "source": [
    "p == p_hat"
   ]
  },
  {
   "cell_type": "markdown",
   "metadata": {},
   "source": [
    "##### 3b)"
   ]
  },
  {
   "cell_type": "code",
   "execution_count": 6,
   "metadata": {},
   "outputs": [
    {
     "data": {
      "text/plain": [
       "matrix([[103., 138., 142.,  80., 170., 102.]])"
      ]
     },
     "execution_count": 6,
     "metadata": {},
     "output_type": "execute_result"
    }
   ],
   "source": [
    "# original x\n",
    "x = np.matmul(np.linalg.inv(A), p.T)\n",
    "x.T"
   ]
  },
  {
   "cell_type": "code",
   "execution_count": 7,
   "metadata": {},
   "outputs": [
    {
     "data": {
      "text/plain": [
       "(matrix([[103.],\n",
       "         [138.],\n",
       "         [142.]]),\n",
       " matrix([[ 80.],\n",
       "         [170.],\n",
       "         [102.]]))"
      ]
     },
     "execution_count": 7,
     "metadata": {},
     "output_type": "execute_result"
    }
   ],
   "source": [
    "# partitioned x ---- y and z\n",
    "y = np.matmul(np.linalg.inv(C), (p[0,:3]-np.matmul(D, h)).T)\n",
    "z = np.matmul(np.linalg.inv(F), (p[0,-3:]-np.matmul(E, g)).T)\n",
    "y, z"
   ]
  },
  {
   "cell_type": "markdown",
   "metadata": {},
   "source": [
    "### Problem 4"
   ]
  },
  {
   "cell_type": "markdown",
   "metadata": {},
   "source": [
    "##### 4b)"
   ]
  },
  {
   "cell_type": "code",
   "execution_count": 8,
   "metadata": {},
   "outputs": [],
   "source": [
    "\n",
    "\n",
    "def GEM_step(A, b):\n",
    "    operations = 0\n",
    "    A_temp = A.copy()\n",
    "    b_temp = b.copy()\n",
    "    for i in range(1, A.shape[0]):\n",
    "        #print(A)\n",
    "        for j in range(0, A.shape[1]):\n",
    "            A_temp[i,j] = A[i,j] - A[i,0]/A[0,0] * A[0,j]\n",
    "            operations +=1\n",
    "        b_temp[i] = b[i] - A[i,0]/A[0,0] * b[0]\n",
    "        operations +=1\n",
    "    return A_temp, b_temp, operations\n",
    "\n",
    "def back_substitute(A,b):\n",
    "    n = len(b)\n",
    "    x = np.zeros(n)\n",
    "\n",
    "    for i in range(n-1, -1, -1):\n",
    "        temp = b[i]\n",
    "        for j in range(n-1, i, -1):\n",
    "            temp -= x[j]*A[i,j]\n",
    "\n",
    "        x[i] = temp/A[i,i]\n",
    "    return x\n",
    "\n",
    "def GEM(A, b):\n",
    "    o = 0\n",
    "    for i in range(A.shape[0]-1):\n",
    "        A_step, b_step, operations = GEM_step(A[i:,i:], b[i:])\n",
    "        A[i:,i:] = A_step\n",
    "        b[i:] = b_step\n",
    "        o += operations\n",
    "        #print(i, A, b)\n",
    "    x = back_substitute(A,b)\n",
    "    return A, b, x, o\n",
    "\n"
   ]
  },
  {
   "cell_type": "code",
   "execution_count": 9,
   "metadata": {},
   "outputs": [],
   "source": [
    "def build_A_and_b(n):\n",
    "    A = np.zeros((n,n))\n",
    "    b = np.zeros(n)\n",
    "    s = 0\n",
    "    for i in range(n):\n",
    "        for j in range(n):\n",
    "            A[i,j] = 1/(i+1 +j+1 -1)\n",
    "            s += A[i,j]\n",
    "        b[i] = s\n",
    "        s = 0\n",
    "        \n",
    "    return A, b\n"
   ]
  },
  {
   "cell_type": "code",
   "execution_count": 10,
   "metadata": {},
   "outputs": [
    {
     "data": {
      "text/plain": [
       "{5: array([1., 1., 1., 1., 1.]),\n",
       " 8: array([1.        , 1.        , 0.99999998, 1.00000013, 0.99999966,\n",
       "        1.00000049, 0.99999965, 1.0000001 ]),\n",
       " 10: array([1.        , 1.00000011, 0.99999774, 1.00002048, 0.99990264,\n",
       "        1.00026691, 0.99956309, 1.0004214 , 0.99977914, 1.0000485 ]),\n",
       " 12: array([0.99999998, 1.00000272, 0.99991614, 1.00112492, 0.99185897,\n",
       "        1.03538471, 0.90231481, 1.17541948, 0.79576776, 1.14866257,\n",
       "        0.93852547, 1.01102248]),\n",
       " 15: array([ 0.99999997,  1.00000242,  0.99999492,  0.99864026,  1.02566811,\n",
       "         0.78193349,  2.06684093, -2.2790367 ,  7.53239313, -7.35504757,\n",
       "         7.38066706, -1.12904142,  0.42574875,  1.73328423,  0.81795234])}"
      ]
     },
     "execution_count": 10,
     "metadata": {},
     "output_type": "execute_result"
    }
   ],
   "source": [
    "xs = {n : None for n in [5,8,10,12,15]}\n",
    "os = xs.copy()\n",
    "for n in xs.keys():\n",
    "    A, b, x, o = GEM(*build_A_and_b(n))\n",
    "    xs[n] = x\n",
    "    os[n] = o\n",
    "xs"
   ]
  },
  {
   "cell_type": "code",
   "execution_count": null,
   "metadata": {},
   "outputs": [],
   "source": []
  },
  {
   "cell_type": "markdown",
   "metadata": {},
   "source": [
    "##### 4c)"
   ]
  },
  {
   "cell_type": "code",
   "execution_count": 11,
   "metadata": {},
   "outputs": [
    {
     "name": "stdout",
     "output_type": "stream",
     "text": [
      "5 1.0597081987512313e-06\n",
      "8 2.9522222003903674e-11\n",
      "10 2.8286183568254468e-14\n",
      "12 2.550908719679527e-17\n",
      "15 9.144065894767732e-19\n"
     ]
    }
   ],
   "source": [
    "for n in xs.keys():\n",
    "    A, b = build_A_and_b(n)\n",
    "    dist_p = 1/(np.linalg.norm(A, 1)*np.linalg.norm(np.linalg.inv(A), 1))\n",
    "    print(n, dist_p)"
   ]
  },
  {
   "cell_type": "markdown",
   "metadata": {},
   "source": [
    "As the size of n increases, the relative distance of the matrix $A_{n,n}$ decreases towards 0 rappedly"
   ]
  },
  {
   "cell_type": "markdown",
   "metadata": {},
   "source": [
    "##### 4d)"
   ]
  },
  {
   "cell_type": "code",
   "execution_count": 12,
   "metadata": {},
   "outputs": [
    {
     "data": {
      "text/plain": [
       "{5: 3.4726644211552867e-12,\n",
       " 8: 7.08726214592578e-07,\n",
       " 10: 0.0007076326965799963,\n",
       " 12: 0.3306750623968309,\n",
       " 15: 13.06000635092709}"
      ]
     },
     "execution_count": 12,
     "metadata": {},
     "output_type": "execute_result"
    }
   ],
   "source": [
    "error_l2_norm = {}\n",
    "for n in xs.keys():\n",
    "    error_l2_norm[n] = np.linalg.norm(np.ones(len(xs[n]))-xs[n], 2)\n",
    "    \n",
    "error_l2_norm"
   ]
  },
  {
   "cell_type": "code",
   "execution_count": 13,
   "metadata": {},
   "outputs": [
    {
     "data": {
      "image/png": "[encoded data removed]",
      "text/plain": [
       "<Figure size 640x480 with 1 Axes>"
      ]
     },
     "metadata": {},
     "output_type": "display_data"
    },
    {
     "data": {
      "image/png": "[encoded data removed]",
      "text/plain": [
       "<Figure size 640x480 with 1 Axes>"
      ]
     },
     "metadata": {},
     "output_type": "display_data"
    }
   ],
   "source": [
    "import matplotlib.pyplot as plt\n",
    "plt.plot(error_l2_norm.keys(), error_l2_norm.values())\n",
    "plt.xlabel('n')\n",
    "plt.ylabel('error')\n",
    "plt.title('error vs. n')\n",
    "plt.show()\n",
    "\n",
    "plt.plot(os.keys(), os.values())\n",
    "plt.xlabel('n')\n",
    "plt.ylabel('number of approximations')\n",
    "plt.title('number of GEM steps/approximations required by matrix size n')\n",
    "plt.show()"
   ]
  },
  {
   "cell_type": "markdown",
   "metadata": {},
   "source": [
    "As the size of the matrix increases, the error increases what appears to be exponentially.  I would say the reason for this has to do with the number of variables we are working with, which would mean we are approximating more variables.  These approximations are happening by a factor of $O(x^3)$ for the number of approximations happening using GEM.  The number of GEM estimations by matrix size $A_{n,n}$ can be seen in the figure above as it appears to be increasing at $x^3$. "
   ]
  },
  {
   "cell_type": "code",
   "execution_count": null,
   "metadata": {},
   "outputs": [],
   "source": []
  }
 ],
 "metadata": {
  "kernelspec": {
   "display_name": "numericalI",
   "language": "python",
   "name": "numericali"
  },
  "language_info": {
   "codemirror_mode": {
    "name": "ipython",
    "version": 3
   },
   "file_extension": ".py",
   "mimetype": "text/x-python",
   "name": "python",
   "nbconvert_exporter": "python",
   "pygments_lexer": "ipython3",
   "version": "3.8.13"
  }
 },
 "nbformat": 4,
 "nbformat_minor": 4
}
